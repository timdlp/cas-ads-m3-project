{
 "cells": [
  {
   "cell_type": "markdown",
   "id": "6fbeb9a3",
   "metadata": {
    "slideshow": {
     "slide_type": "slide"
    }
   },
   "source": [
    "## Can we predict the genre of a track using Spotify Data and ML ?\n",
    "\n",
    "Project work for Module 3 – CAS Applied Data Science, University of Bern\n",
    "\n",
    "\n",
    "Timothée Delapierre, december 2021\n"
   ]
  },
  {
   "cell_type": "code",
   "execution_count": 1,
   "id": "9f566754",
   "metadata": {
    "slideshow": {
     "slide_type": "skip"
    }
   },
   "outputs": [],
   "source": [
    "# This noteboook presents the module project for the CAS ADS (UniBE)\n",
    "# The goal was to apply some of the course contents to another dataset\n",
    "#\n",
    "# For best results, run all the cells then launch the presentation using RISE"
   ]
  },
  {
   "cell_type": "code",
   "execution_count": 2,
   "id": "d210c190",
   "metadata": {
    "slideshow": {
     "slide_type": "skip"
    }
   },
   "outputs": [],
   "source": [
    "# Importing the necessary libraries for the project\n",
    "\n",
    "\n",
    "import pandas as pd\n",
    "\n",
    "from sklearn.preprocessing import LabelEncoder\n",
    "from sklearn.preprocessing import StandardScaler\n",
    "\n",
    "from sklearn.model_selection import train_test_split\n",
    "\n",
    "from sklearn.neighbors import KNeighborsClassifier\n",
    "from sklearn.svm import LinearSVC\n",
    "\n",
    "from sklearn.metrics import classification_report, confusion_matrix\n",
    "\n",
    "from time import time as timer\n",
    "\n",
    "import numpy as np\n",
    "\n",
    "import matplotlib.pyplot as plt\n"
   ]
  },
  {
   "cell_type": "markdown",
   "id": "8f7d23b3",
   "metadata": {
    "slideshow": {
     "slide_type": "slide"
    }
   },
   "source": [
    "## Menu du jour\n",
    "\n",
    "- First Idea\n",
    "    - Data\n",
    "        - Features\n",
    "        - Target for classification\n",
    "- New dataset ?\n",
    "    - Collecting process\n",
    "    - First attempts\n",
    "    - Results\n",
    "- Next steps\n",
    "\n"
   ]
  },
  {
   "cell_type": "markdown",
   "id": "c2e4a071",
   "metadata": {
    "slideshow": {
     "slide_type": "slide"
    }
   },
   "source": [
    "# First idea\n",
    "\n",
    "Dataset on Kaggle with the top 2000 tracks on Spotify (from 1956 to 2019).\n",
    "\n",
    "_Why not try to apply concepts from the ML class to it ?_"
   ]
  },
  {
   "cell_type": "markdown",
   "id": "8d2f5f04",
   "metadata": {
    "slideshow": {
     "slide_type": "subslide"
    }
   },
   "source": [
    "## Features\n",
    "- **Index:** ID\n",
    "- **Title:** Name of the Track\n",
    "- **Artist:** Name of the Artist\n",
    "- **Top Genre:** Genre of the track\n",
    "- **Year:** Release Year of the track\n",
    "- **Beats per Minute(BPM):** The tempo of the song\n",
    "- **Energy:** The energy of a song - the higher the value, the more energtic. song\n",
    "- **Danceability:** The higher the value, the easier it is to dance to this song.\n",
    "- **Loudness:** The higher the value, the louder the song.\n",
    "- **Valence:** The higher the value, the more positive mood for the song.\n",
    "- **Length:** The duration of the song.\n",
    "- **Acoustic:** The higher the value the more acoustic the song is.\n",
    "- **Speechiness:** The higher the value the more spoken words the song contains\n",
    "- **Popularity:** The higher the value the more popular the song is.\n",
    "\n"
   ]
  },
  {
   "cell_type": "markdown",
   "id": "adabcdf8",
   "metadata": {
    "slideshow": {
     "slide_type": "subslide"
    }
   },
   "source": [
    "## Features\n",
    "- <strike style=\"color:rgba(0,0,0,0.3)\">**Index:** ID</strike>\n",
    "- <strike>**Title:** Name of the Track</strike>\n",
    "- <strike>**Artist:** Name of the Artist</strike>\n",
    "- **Top Genre:** Genre of the track\n",
    "- <strike>**Year:** Release Year of the track</strike>\n",
    "- **Beats per Minute(BPM):** The tempo of the song\n",
    "- **Energy:** The energy of a song - the higher the value, the more energtic. song\n",
    "- **Danceability:** The higher the value, the easier it is to dance to this song.\n",
    "- **Loudness:** The higher the value, the louder the song.\n",
    "- **Valence:** The higher the value, the more positive mood for the song.\n",
    "- **Length:** The duration of the song.\n",
    "- **Acoustic:** The higher the value the more acoustic the song is.\n",
    "- **Speechiness:** The higher the value the more spoken words the song contains\n",
    "- <strike>**Popularity:** The higher the value the more popular the song is.</strike>\n",
    "\n"
   ]
  },
  {
   "cell_type": "markdown",
   "id": "dc278f43",
   "metadata": {
    "slideshow": {
     "slide_type": "subslide"
    }
   },
   "source": [
    "## How does this data look like\n",
    "\n"
   ]
  },
  {
   "cell_type": "code",
   "execution_count": 3,
   "id": "663189bd",
   "metadata": {
    "slideshow": {
     "slide_type": "fragment"
    }
   },
   "outputs": [
    {
     "data": {
      "text/html": [
       "<div>\n",
       "<style scoped>\n",
       "    .dataframe tbody tr th:only-of-type {\n",
       "        vertical-align: middle;\n",
       "    }\n",
       "\n",
       "    .dataframe tbody tr th {\n",
       "        vertical-align: top;\n",
       "    }\n",
       "\n",
       "    .dataframe thead th {\n",
       "        text-align: right;\n",
       "    }\n",
       "</style>\n",
       "<table border=\"1\" class=\"dataframe\">\n",
       "  <thead>\n",
       "    <tr style=\"text-align: right;\">\n",
       "      <th></th>\n",
       "      <th>top_genre</th>\n",
       "      <th>bpm</th>\n",
       "      <th>energy</th>\n",
       "      <th>danceability</th>\n",
       "      <th>loudness_dB</th>\n",
       "      <th>liveness</th>\n",
       "      <th>valence</th>\n",
       "      <th>duration_seconds</th>\n",
       "      <th>acousticness</th>\n",
       "      <th>speechiness</th>\n",
       "    </tr>\n",
       "  </thead>\n",
       "  <tbody>\n",
       "    <tr>\n",
       "      <th>0</th>\n",
       "      <td>adult standards</td>\n",
       "      <td>157</td>\n",
       "      <td>30</td>\n",
       "      <td>53</td>\n",
       "      <td>-14</td>\n",
       "      <td>11</td>\n",
       "      <td>68</td>\n",
       "      <td>201.0</td>\n",
       "      <td>94</td>\n",
       "      <td>3</td>\n",
       "    </tr>\n",
       "    <tr>\n",
       "      <th>1</th>\n",
       "      <td>album rock</td>\n",
       "      <td>135</td>\n",
       "      <td>79</td>\n",
       "      <td>50</td>\n",
       "      <td>-11</td>\n",
       "      <td>17</td>\n",
       "      <td>81</td>\n",
       "      <td>207.0</td>\n",
       "      <td>17</td>\n",
       "      <td>7</td>\n",
       "    </tr>\n",
       "    <tr>\n",
       "      <th>2</th>\n",
       "      <td>alternative hip hop</td>\n",
       "      <td>168</td>\n",
       "      <td>69</td>\n",
       "      <td>66</td>\n",
       "      <td>-9</td>\n",
       "      <td>7</td>\n",
       "      <td>52</td>\n",
       "      <td>341.0</td>\n",
       "      <td>2</td>\n",
       "      <td>17</td>\n",
       "    </tr>\n",
       "    <tr>\n",
       "      <th>3</th>\n",
       "      <td>alternative metal</td>\n",
       "      <td>173</td>\n",
       "      <td>96</td>\n",
       "      <td>43</td>\n",
       "      <td>-4</td>\n",
       "      <td>3</td>\n",
       "      <td>37</td>\n",
       "      <td>269.0</td>\n",
       "      <td>0</td>\n",
       "      <td>4</td>\n",
       "    </tr>\n",
       "    <tr>\n",
       "      <th>4</th>\n",
       "      <td>classic rock</td>\n",
       "      <td>106</td>\n",
       "      <td>82</td>\n",
       "      <td>58</td>\n",
       "      <td>-5</td>\n",
       "      <td>10</td>\n",
       "      <td>87</td>\n",
       "      <td>256.0</td>\n",
       "      <td>1</td>\n",
       "      <td>3</td>\n",
       "    </tr>\n",
       "  </tbody>\n",
       "</table>\n",
       "</div>"
      ],
      "text/plain": [
       "             top_genre  bpm  energy  danceability  loudness_dB  liveness  \\\n",
       "0      adult standards  157      30            53          -14        11   \n",
       "1           album rock  135      79            50          -11        17   \n",
       "2  alternative hip hop  168      69            66           -9         7   \n",
       "3    alternative metal  173      96            43           -4         3   \n",
       "4         classic rock  106      82            58           -5        10   \n",
       "\n",
       "   valence  duration_seconds  acousticness  speechiness  \n",
       "0       68             201.0            94            3  \n",
       "1       81             207.0            17            7  \n",
       "2       52             341.0             2           17  \n",
       "3       37             269.0             0            4  \n",
       "4       87             256.0             1            3  "
      ]
     },
     "execution_count": 3,
     "metadata": {},
     "output_type": "execute_result"
    }
   ],
   "source": [
    "# The dataset can be found here on Kaggle (https://www.kaggle.com/iamsumat/spotify-top-2000s-mega-dataset)\n",
    "# For the presentation, I'll host a copy on my server since Kaggle doesn't allow direct download\n",
    "\n",
    "# Load the dataset in a Pandas.DataFrame\n",
    "df_2000 = pd.read_csv('https://d1p.ch/data/Spotify-2000.csv',decimal=',')\n",
    "\n",
    "\n",
    "# Removing features that aren't relevant\n",
    "df_2000 = df_2000.iloc[:,3:]\n",
    "df_2000 = df_2000.drop(columns=['year','popularity'])\n",
    "\n",
    "# Let's have a look at the data\n",
    "df_2000.head()"
   ]
  },
  {
   "cell_type": "code",
   "execution_count": 4,
   "id": "a9b2d593",
   "metadata": {
    "scrolled": true,
    "slideshow": {
     "slide_type": "fragment"
    }
   },
   "outputs": [
    {
     "data": {
      "text/html": [
       "<div>\n",
       "<style scoped>\n",
       "    .dataframe tbody tr th:only-of-type {\n",
       "        vertical-align: middle;\n",
       "    }\n",
       "\n",
       "    .dataframe tbody tr th {\n",
       "        vertical-align: top;\n",
       "    }\n",
       "\n",
       "    .dataframe thead th {\n",
       "        text-align: right;\n",
       "    }\n",
       "</style>\n",
       "<table border=\"1\" class=\"dataframe\">\n",
       "  <thead>\n",
       "    <tr style=\"text-align: right;\">\n",
       "      <th></th>\n",
       "      <th>bpm</th>\n",
       "      <th>energy</th>\n",
       "      <th>danceability</th>\n",
       "      <th>loudness_dB</th>\n",
       "      <th>liveness</th>\n",
       "      <th>valence</th>\n",
       "      <th>duration_seconds</th>\n",
       "      <th>acousticness</th>\n",
       "      <th>speechiness</th>\n",
       "    </tr>\n",
       "  </thead>\n",
       "  <tbody>\n",
       "    <tr>\n",
       "      <th>count</th>\n",
       "      <td>1994.000000</td>\n",
       "      <td>1994.000000</td>\n",
       "      <td>1994.000000</td>\n",
       "      <td>1994.000000</td>\n",
       "      <td>1994.000000</td>\n",
       "      <td>1994.000000</td>\n",
       "      <td>1994.000000</td>\n",
       "      <td>1994.000000</td>\n",
       "      <td>1994.000000</td>\n",
       "    </tr>\n",
       "    <tr>\n",
       "      <th>mean</th>\n",
       "      <td>120.215647</td>\n",
       "      <td>59.679539</td>\n",
       "      <td>53.238215</td>\n",
       "      <td>-9.008526</td>\n",
       "      <td>19.012036</td>\n",
       "      <td>49.408726</td>\n",
       "      <td>259.842122</td>\n",
       "      <td>28.858074</td>\n",
       "      <td>4.994985</td>\n",
       "    </tr>\n",
       "    <tr>\n",
       "      <th>std</th>\n",
       "      <td>28.028096</td>\n",
       "      <td>22.154322</td>\n",
       "      <td>15.351507</td>\n",
       "      <td>3.647876</td>\n",
       "      <td>16.727378</td>\n",
       "      <td>24.858212</td>\n",
       "      <td>81.944792</td>\n",
       "      <td>29.011986</td>\n",
       "      <td>4.401566</td>\n",
       "    </tr>\n",
       "    <tr>\n",
       "      <th>min</th>\n",
       "      <td>37.000000</td>\n",
       "      <td>3.000000</td>\n",
       "      <td>10.000000</td>\n",
       "      <td>-27.000000</td>\n",
       "      <td>2.000000</td>\n",
       "      <td>3.000000</td>\n",
       "      <td>1.121000</td>\n",
       "      <td>0.000000</td>\n",
       "      <td>2.000000</td>\n",
       "    </tr>\n",
       "    <tr>\n",
       "      <th>25%</th>\n",
       "      <td>99.000000</td>\n",
       "      <td>42.000000</td>\n",
       "      <td>43.000000</td>\n",
       "      <td>-11.000000</td>\n",
       "      <td>9.000000</td>\n",
       "      <td>29.000000</td>\n",
       "      <td>212.000000</td>\n",
       "      <td>3.000000</td>\n",
       "      <td>3.000000</td>\n",
       "    </tr>\n",
       "    <tr>\n",
       "      <th>50%</th>\n",
       "      <td>119.000000</td>\n",
       "      <td>61.000000</td>\n",
       "      <td>53.000000</td>\n",
       "      <td>-8.000000</td>\n",
       "      <td>12.000000</td>\n",
       "      <td>47.000000</td>\n",
       "      <td>245.000000</td>\n",
       "      <td>18.000000</td>\n",
       "      <td>4.000000</td>\n",
       "    </tr>\n",
       "    <tr>\n",
       "      <th>75%</th>\n",
       "      <td>136.000000</td>\n",
       "      <td>78.000000</td>\n",
       "      <td>64.000000</td>\n",
       "      <td>-6.000000</td>\n",
       "      <td>23.000000</td>\n",
       "      <td>69.750000</td>\n",
       "      <td>289.000000</td>\n",
       "      <td>50.000000</td>\n",
       "      <td>5.000000</td>\n",
       "    </tr>\n",
       "    <tr>\n",
       "      <th>max</th>\n",
       "      <td>206.000000</td>\n",
       "      <td>100.000000</td>\n",
       "      <td>96.000000</td>\n",
       "      <td>-2.000000</td>\n",
       "      <td>99.000000</td>\n",
       "      <td>99.000000</td>\n",
       "      <td>966.000000</td>\n",
       "      <td>99.000000</td>\n",
       "      <td>55.000000</td>\n",
       "    </tr>\n",
       "  </tbody>\n",
       "</table>\n",
       "</div>"
      ],
      "text/plain": [
       "               bpm       energy  danceability  loudness_dB     liveness  \\\n",
       "count  1994.000000  1994.000000   1994.000000  1994.000000  1994.000000   \n",
       "mean    120.215647    59.679539     53.238215    -9.008526    19.012036   \n",
       "std      28.028096    22.154322     15.351507     3.647876    16.727378   \n",
       "min      37.000000     3.000000     10.000000   -27.000000     2.000000   \n",
       "25%      99.000000    42.000000     43.000000   -11.000000     9.000000   \n",
       "50%     119.000000    61.000000     53.000000    -8.000000    12.000000   \n",
       "75%     136.000000    78.000000     64.000000    -6.000000    23.000000   \n",
       "max     206.000000   100.000000     96.000000    -2.000000    99.000000   \n",
       "\n",
       "           valence  duration_seconds  acousticness  speechiness  \n",
       "count  1994.000000       1994.000000   1994.000000  1994.000000  \n",
       "mean     49.408726        259.842122     28.858074     4.994985  \n",
       "std      24.858212         81.944792     29.011986     4.401566  \n",
       "min       3.000000          1.121000      0.000000     2.000000  \n",
       "25%      29.000000        212.000000      3.000000     3.000000  \n",
       "50%      47.000000        245.000000     18.000000     4.000000  \n",
       "75%      69.750000        289.000000     50.000000     5.000000  \n",
       "max      99.000000        966.000000     99.000000    55.000000  "
      ]
     },
     "execution_count": 4,
     "metadata": {},
     "output_type": "execute_result"
    }
   ],
   "source": [
    "df_2000.describe()"
   ]
  },
  {
   "cell_type": "markdown",
   "id": "d14485e2",
   "metadata": {
    "slideshow": {
     "slide_type": "slide"
    }
   },
   "source": [
    "\n",
    "### Task is classification with _top_genre_ as Y and the other features as X"
   ]
  },
  {
   "cell_type": "code",
   "execution_count": 5,
   "id": "036f9a65",
   "metadata": {
    "slideshow": {
     "slide_type": "fragment"
    }
   },
   "outputs": [
    {
     "name": "stdout",
     "output_type": "stream",
     "text": [
      "album rock           413\n",
      "adult standards      123\n",
      "dutch pop             88\n",
      "alternative rock      86\n",
      "dance pop             83\n",
      "                    ... \n",
      "streektaal             1\n",
      "indie anthem-folk      1\n",
      "la pop                 1\n",
      "ccm                    1\n",
      "bebop                  1\n",
      "Name: top_genre, Length: 149, dtype: int64\n"
     ]
    }
   ],
   "source": [
    "genres_repartition = df_2000.top_genre.value_counts()\n",
    "\n",
    "print(genres_repartition)"
   ]
  },
  {
   "cell_type": "code",
   "execution_count": 6,
   "id": "84656922",
   "metadata": {
    "slideshow": {
     "slide_type": "subslide"
    }
   },
   "outputs": [
    {
     "data": {
      "text/plain": [
       "count    149.000000\n",
       "mean      13.382550\n",
       "std       38.437664\n",
       "min        1.000000\n",
       "25%        1.000000\n",
       "50%        3.000000\n",
       "75%        9.000000\n",
       "max      413.000000\n",
       "Name: top_genre, dtype: float64"
      ]
     },
     "execution_count": 6,
     "metadata": {},
     "output_type": "execute_result"
    }
   ],
   "source": [
    "genres_repartition.describe()\n",
    "\n"
   ]
  },
  {
   "cell_type": "markdown",
   "id": "ef8ea232",
   "metadata": {
    "slideshow": {
     "slide_type": "fragment"
    }
   },
   "source": [
    "Having round 2000 samples and round 150 different classes doesn't sound very promising for a classification."
   ]
  },
  {
   "cell_type": "markdown",
   "id": "c32a51d1",
   "metadata": {
    "slideshow": {
     "slide_type": "slide"
    }
   },
   "source": [
    "## Make my own dataset\n",
    "\n",
    "From online readings about similar projects.\n",
    "\n",
    "\n",
    "I held back from looking at similar projects beyond the introduction\n"
   ]
  },
  {
   "cell_type": "markdown",
   "id": "f1798114",
   "metadata": {
    "slideshow": {
     "slide_type": "fragment"
    }
   },
   "source": [
    "\n",
    "Use **playlistmachinery.com** to get songs from playlists by genre\n",
    "- The sound of Pop\n",
    "- The sound of EDM\n",
    "- The sound of Rock\n",
    "- The sound of Hip hop"
   ]
  },
  {
   "cell_type": "markdown",
   "id": "0a9a34fc",
   "metadata": {
    "slideshow": {
     "slide_type": "slide"
    }
   },
   "source": [
    "## Process\n",
    "1. Find a playlist form a top trending genre\n",
    "2. Load it into **sortyourmusic.playlistmachinery.com**\n",
    "3. Extract the HTML table => Convert it to csv."
   ]
  },
  {
   "cell_type": "code",
   "execution_count": 7,
   "id": "80483857",
   "metadata": {
    "slideshow": {
     "slide_type": "slide"
    }
   },
   "outputs": [
    {
     "name": "stdout",
     "output_type": "stream",
     "text": [
      "Data repartition between genres :\n",
      "pop 1139\n",
      "edm 942\n",
      "rock 1171\n",
      "hip-hop 968\n"
     ]
    }
   ],
   "source": [
    "# Load the data from csv files\n",
    "# Add a column because top genre isn't always the same\n",
    "pop_df = pd.read_csv('https://d1p.ch/data/pop.txt')\n",
    "pop_df['genre'] = 'pop'\n",
    "\n",
    "edm_df = pd.read_csv('https://d1p.ch/data/edm.txt')\n",
    "edm_df['genre'] = 'edm'\n",
    "\n",
    "rock_df = pd.read_csv('https://d1p.ch/data/rock.txt')\n",
    "rock_df['genre'] = 'rock'\n",
    "\n",
    "hiphop_df = pd.read_csv('https://d1p.ch/data/hiphop.txt')\n",
    "hiphop_df['genre'] = 'hip-hop'\n",
    "\n",
    "dataframes = [pop_df, edm_df, rock_df, hiphop_df]\n",
    "\n",
    "\n",
    "# Check the repartition between genres\n",
    "print(\"Data repartition between genres :\")\n",
    "for df in dataframes:\n",
    "    print(df['genre'].iloc[0], len(df.index))\n",
    "          \n",
    "\n",
    "\n",
    "# Merge the Dfs together\n",
    "dfs = pd.concat(dataframes)\n",
    "\n",
    "# Remove the uninteresting columns\n",
    "dfs = dfs.iloc[:,8:]\n",
    "\n",
    "# Shuffle the data\n",
    "dfs = dfs.sample(frac=1).reset_index(drop=True) "
   ]
  },
  {
   "cell_type": "code",
   "execution_count": null,
   "id": "7c5047bf",
   "metadata": {},
   "outputs": [],
   "source": []
  },
  {
   "cell_type": "code",
   "execution_count": 8,
   "id": "c87cb844",
   "metadata": {
    "scrolled": true,
    "slideshow": {
     "slide_type": "slide"
    }
   },
   "outputs": [
    {
     "data": {
      "text/html": [
       "<div>\n",
       "<style scoped>\n",
       "    .dataframe tbody tr th:only-of-type {\n",
       "        vertical-align: middle;\n",
       "    }\n",
       "\n",
       "    .dataframe tbody tr th {\n",
       "        vertical-align: top;\n",
       "    }\n",
       "\n",
       "    .dataframe thead th {\n",
       "        text-align: right;\n",
       "    }\n",
       "</style>\n",
       "<table border=\"1\" class=\"dataframe\">\n",
       "  <thead>\n",
       "    <tr style=\"text-align: right;\">\n",
       "      <th></th>\n",
       "      <th>bpm</th>\n",
       "      <th>nrgy</th>\n",
       "      <th>dnce</th>\n",
       "      <th>dB</th>\n",
       "      <th>live</th>\n",
       "      <th>val</th>\n",
       "      <th>dur</th>\n",
       "      <th>acous</th>\n",
       "      <th>spch</th>\n",
       "      <th>pop</th>\n",
       "    </tr>\n",
       "  </thead>\n",
       "  <tbody>\n",
       "    <tr>\n",
       "      <th>count</th>\n",
       "      <td>4220.000000</td>\n",
       "      <td>4220.000000</td>\n",
       "      <td>4220.000000</td>\n",
       "      <td>4220.000000</td>\n",
       "      <td>4220.000000</td>\n",
       "      <td>4220.000000</td>\n",
       "      <td>4220.000000</td>\n",
       "      <td>4220.000000</td>\n",
       "      <td>4220.000000</td>\n",
       "      <td>4220.000000</td>\n",
       "    </tr>\n",
       "    <tr>\n",
       "      <th>mean</th>\n",
       "      <td>120.759005</td>\n",
       "      <td>69.845735</td>\n",
       "      <td>62.899289</td>\n",
       "      <td>-6.715640</td>\n",
       "      <td>18.700237</td>\n",
       "      <td>50.728436</td>\n",
       "      <td>226.937204</td>\n",
       "      <td>15.822275</td>\n",
       "      <td>10.299052</td>\n",
       "      <td>64.419668</td>\n",
       "    </tr>\n",
       "    <tr>\n",
       "      <th>std</th>\n",
       "      <td>27.058862</td>\n",
       "      <td>18.066261</td>\n",
       "      <td>15.492333</td>\n",
       "      <td>2.933197</td>\n",
       "      <td>14.928873</td>\n",
       "      <td>22.917511</td>\n",
       "      <td>57.259091</td>\n",
       "      <td>21.482640</td>\n",
       "      <td>9.352903</td>\n",
       "      <td>12.168796</td>\n",
       "    </tr>\n",
       "    <tr>\n",
       "      <th>min</th>\n",
       "      <td>52.000000</td>\n",
       "      <td>8.000000</td>\n",
       "      <td>14.000000</td>\n",
       "      <td>-21.000000</td>\n",
       "      <td>1.000000</td>\n",
       "      <td>3.000000</td>\n",
       "      <td>121.000000</td>\n",
       "      <td>0.000000</td>\n",
       "      <td>2.000000</td>\n",
       "      <td>3.000000</td>\n",
       "    </tr>\n",
       "    <tr>\n",
       "      <th>25%</th>\n",
       "      <td>99.000000</td>\n",
       "      <td>58.000000</td>\n",
       "      <td>52.000000</td>\n",
       "      <td>-8.000000</td>\n",
       "      <td>9.000000</td>\n",
       "      <td>33.000000</td>\n",
       "      <td>188.000000</td>\n",
       "      <td>1.000000</td>\n",
       "      <td>4.000000</td>\n",
       "      <td>56.000000</td>\n",
       "    </tr>\n",
       "    <tr>\n",
       "      <th>50%</th>\n",
       "      <td>122.000000</td>\n",
       "      <td>72.000000</td>\n",
       "      <td>64.000000</td>\n",
       "      <td>-6.000000</td>\n",
       "      <td>13.000000</td>\n",
       "      <td>51.000000</td>\n",
       "      <td>217.000000</td>\n",
       "      <td>6.000000</td>\n",
       "      <td>6.000000</td>\n",
       "      <td>65.500000</td>\n",
       "    </tr>\n",
       "    <tr>\n",
       "      <th>75%</th>\n",
       "      <td>135.000000</td>\n",
       "      <td>84.000000</td>\n",
       "      <td>74.000000</td>\n",
       "      <td>-5.000000</td>\n",
       "      <td>24.000000</td>\n",
       "      <td>69.000000</td>\n",
       "      <td>256.000000</td>\n",
       "      <td>22.000000</td>\n",
       "      <td>13.000000</td>\n",
       "      <td>73.000000</td>\n",
       "    </tr>\n",
       "    <tr>\n",
       "      <th>max</th>\n",
       "      <td>211.000000</td>\n",
       "      <td>100.000000</td>\n",
       "      <td>98.000000</td>\n",
       "      <td>1.000000</td>\n",
       "      <td>98.000000</td>\n",
       "      <td>99.000000</td>\n",
       "      <td>592.000000</td>\n",
       "      <td>98.000000</td>\n",
       "      <td>48.000000</td>\n",
       "      <td>98.000000</td>\n",
       "    </tr>\n",
       "  </tbody>\n",
       "</table>\n",
       "</div>"
      ],
      "text/plain": [
       "               bpm         nrgy         dnce           dB         live  \\\n",
       "count  4220.000000  4220.000000  4220.000000  4220.000000  4220.000000   \n",
       "mean    120.759005    69.845735    62.899289    -6.715640    18.700237   \n",
       "std      27.058862    18.066261    15.492333     2.933197    14.928873   \n",
       "min      52.000000     8.000000    14.000000   -21.000000     1.000000   \n",
       "25%      99.000000    58.000000    52.000000    -8.000000     9.000000   \n",
       "50%     122.000000    72.000000    64.000000    -6.000000    13.000000   \n",
       "75%     135.000000    84.000000    74.000000    -5.000000    24.000000   \n",
       "max     211.000000   100.000000    98.000000     1.000000    98.000000   \n",
       "\n",
       "               val          dur        acous         spch          pop  \n",
       "count  4220.000000  4220.000000  4220.000000  4220.000000  4220.000000  \n",
       "mean     50.728436   226.937204    15.822275    10.299052    64.419668  \n",
       "std      22.917511    57.259091    21.482640     9.352903    12.168796  \n",
       "min       3.000000   121.000000     0.000000     2.000000     3.000000  \n",
       "25%      33.000000   188.000000     1.000000     4.000000    56.000000  \n",
       "50%      51.000000   217.000000     6.000000     6.000000    65.500000  \n",
       "75%      69.000000   256.000000    22.000000    13.000000    73.000000  \n",
       "max      99.000000   592.000000    98.000000    48.000000    98.000000  "
      ]
     },
     "execution_count": 8,
     "metadata": {},
     "output_type": "execute_result"
    }
   ],
   "source": [
    "dfs.describe()"
   ]
  },
  {
   "cell_type": "code",
   "execution_count": 9,
   "id": "7c4d25d4",
   "metadata": {
    "slideshow": {
     "slide_type": "slide"
    }
   },
   "outputs": [],
   "source": [
    "feat_x = [\n",
    "    'bpm',\n",
    "    'nrgy',\n",
    "    'dnce',\n",
    "    'dB',\n",
    "    'live',\n",
    "    'val',\n",
    "    'dur',\n",
    "    'acous',\n",
    "    'spch'\n",
    "]\n",
    "\n",
    "feat_y = ['genre']\n",
    "\n",
    "df_x = dfs[feat_x].copy()\n",
    "df_y = dfs[feat_y].copy()\n",
    "\n",
    "\n",
    "# Label encoding\n",
    "labelencoder = LabelEncoder()\n",
    "\n",
    "df_y['genre_cat'] = labelencoder.fit_transform(df_y['genre'])\n",
    "\n",
    "x = df_x.to_numpy().astype(np.float32)\n",
    "y = df_y['genre_cat']\n",
    "\n"
   ]
  },
  {
   "cell_type": "code",
   "execution_count": 10,
   "id": "8cf114e7",
   "metadata": {
    "slideshow": {
     "slide_type": "slide"
    }
   },
   "outputs": [],
   "source": [
    "\n",
    "x_train, x_test, y_train, y_test = train_test_split(x, y, test_size=0.2)\n"
   ]
  },
  {
   "cell_type": "code",
   "execution_count": 11,
   "id": "4046d140",
   "metadata": {
    "slideshow": {
     "slide_type": "slide"
    }
   },
   "outputs": [
    {
     "name": "stdout",
     "output_type": "stream",
     "text": [
      "Training score:  0.6954976303317536\n",
      "Testing score:  0.6800947867298578\n",
      "\n",
      "### confusion matrix ###\n",
      "[[109  19  25  31]\n",
      " [  8 160  17  15]\n",
      " [ 38  29 132  36]\n",
      " [ 25   7  20 173]]\n",
      "\n",
      "### classification report ###\n",
      "              precision    recall  f1-score   support\n",
      "\n",
      "           0       0.61      0.59      0.60       184\n",
      "           1       0.74      0.80      0.77       200\n",
      "           2       0.68      0.56      0.62       235\n",
      "           3       0.68      0.77      0.72       225\n",
      "\n",
      "    accuracy                           0.68       844\n",
      "   macro avg       0.68      0.68      0.68       844\n",
      "weighted avg       0.68      0.68      0.68       844\n",
      "\n"
     ]
    }
   ],
   "source": [
    "scaler = StandardScaler()\n",
    "scaler.fit(x_train)\n",
    "\n",
    "x_train = scaler.transform(x_train)\n",
    "x_test = scaler.transform(x_test)\n",
    "\n",
    "\n",
    "lsvc = LinearSVC(verbose=0, max_iter=1800, multi_class='ovr')\n",
    "\n",
    "lsvc.fit(x_train, y_train)\n",
    "\n",
    "score = lsvc.score(x_train, y_train)\n",
    "testing_score = lsvc.score(x_test,y_test)\n",
    "print(\"Training score: \", score)\n",
    "print(\"Testing score: \", testing_score)\n",
    "\n",
    "y_pred_lsvc = lsvc.predict(x_test)\n",
    "\n",
    "print(\"\\n### confusion matrix ###\")\n",
    "cm = confusion_matrix(y_test, y_pred_lsvc)\n",
    "print(cm)\n",
    "\n",
    "print(\"\\n### classification report ###\")\n",
    "cr = classification_report(y_test, y_pred_lsvc)\n",
    "print(cr)\n"
   ]
  },
  {
   "cell_type": "code",
   "execution_count": 12,
   "id": "f64374f0",
   "metadata": {
    "slideshow": {
     "slide_type": "slide"
    }
   },
   "outputs": [
    {
     "data": {
      "text/plain": [
       "KNeighborsClassifier(n_neighbors=40)"
      ]
     },
     "execution_count": 12,
     "metadata": {},
     "output_type": "execute_result"
    }
   ],
   "source": [
    "classifier = KNeighborsClassifier(n_neighbors=40)\n",
    "classifier.fit(x_train, y_train)"
   ]
  },
  {
   "cell_type": "code",
   "execution_count": 13,
   "id": "bb4e7273",
   "metadata": {
    "slideshow": {
     "slide_type": "subslide"
    }
   },
   "outputs": [
    {
     "name": "stdout",
     "output_type": "stream",
     "text": [
      "\n",
      "### confusion matrix ###\n",
      "[[122   7  27  28]\n",
      " [ 12 153  20  15]\n",
      " [ 40  20 155  20]\n",
      " [ 31   5  29 160]]\n",
      "\n",
      "### classification report ###\n",
      "              precision    recall  f1-score   support\n",
      "\n",
      "           0       0.60      0.66      0.63       184\n",
      "           1       0.83      0.77      0.79       200\n",
      "           2       0.67      0.66      0.67       235\n",
      "           3       0.72      0.71      0.71       225\n",
      "\n",
      "    accuracy                           0.70       844\n",
      "   macro avg       0.70      0.70      0.70       844\n",
      "weighted avg       0.70      0.70      0.70       844\n",
      "\n"
     ]
    }
   ],
   "source": [
    "y_pred_knn = classifier.predict(x_test)\n",
    "\n",
    "\n",
    "print(\"\\n### confusion matrix ###\")\n",
    "print(confusion_matrix(y_test, y_pred_knn))\n",
    "\n",
    "print(\"\\n### classification report ###\")\n",
    "\n",
    "print(classification_report(y_test, y_pred_knn))"
   ]
  },
  {
   "cell_type": "code",
   "execution_count": 14,
   "id": "b5a2de5d",
   "metadata": {
    "slideshow": {
     "slide_type": "slide"
    }
   },
   "outputs": [],
   "source": [
    "error = []\n",
    "\n",
    "# Calculating error for K values between 1 and 50\n",
    "for i in range(1, 50):\n",
    "    knn = KNeighborsClassifier(n_neighbors=i)\n",
    "    knn.fit(x_train, y_train)\n",
    "    pred_i = knn.predict(x_test)\n",
    "    error.append(np.mean(pred_i != y_test))"
   ]
  },
  {
   "cell_type": "code",
   "execution_count": 15,
   "id": "21061679",
   "metadata": {
    "slideshow": {
     "slide_type": "slide"
    }
   },
   "outputs": [
    {
     "data": {
      "image/png": "[encoded data removed]",
      "text/plain": [
       "<Figure size 1200x600 with 1 Axes>"
      ]
     },
     "metadata": {},
     "output_type": "display_data"
    }
   ],
   "source": [
    "plt.figure(figsize=(12, 6))\n",
    "plt.plot(range(1, 50), error, color='red', linestyle='dashed', marker='o',\n",
    "         markerfacecolor='blue', markersize=10)\n",
    "plt.title('Error Rate K Value')\n",
    "plt.xlabel('K Value')\n",
    "plt.ylabel('Mean Error')\n",
    "\n",
    "plt.show()\n"
   ]
  },
  {
   "cell_type": "markdown",
   "id": "9e8074a6",
   "metadata": {
    "slideshow": {
     "slide_type": "slide"
    }
   },
   "source": [
    "## Results"
   ]
  },
  {
   "cell_type": "code",
   "execution_count": 16,
   "id": "515ae1f0",
   "metadata": {
    "slideshow": {
     "slide_type": "fragment"
    }
   },
   "outputs": [
    {
     "name": "stdout",
     "output_type": "stream",
     "text": [
      "\n",
      "### confusion matrix (LSVC) ###\n",
      "[[109  19  25  31]\n",
      " [  8 160  17  15]\n",
      " [ 38  29 132  36]\n",
      " [ 25   7  20 173]]\n",
      "\n",
      "### classification report (LSVC) ###\n",
      "              precision    recall  f1-score   support\n",
      "\n",
      "           0       0.61      0.59      0.60       184\n",
      "           1       0.74      0.80      0.77       200\n",
      "           2       0.68      0.56      0.62       235\n",
      "           3       0.68      0.77      0.72       225\n",
      "\n",
      "    accuracy                           0.68       844\n",
      "   macro avg       0.68      0.68      0.68       844\n",
      "weighted avg       0.68      0.68      0.68       844\n",
      "\n",
      "\n",
      "### confusion matrix (KNN) ###\n",
      "[[122   7  27  28]\n",
      " [ 12 153  20  15]\n",
      " [ 40  20 155  20]\n",
      " [ 31   5  29 160]]\n",
      "\n",
      "### classification report (KNN) ###\n",
      "              precision    recall  f1-score   support\n",
      "\n",
      "           0       0.60      0.66      0.63       184\n",
      "           1       0.83      0.77      0.79       200\n",
      "           2       0.67      0.66      0.67       235\n",
      "           3       0.72      0.71      0.71       225\n",
      "\n",
      "    accuracy                           0.70       844\n",
      "   macro avg       0.70      0.70      0.70       844\n",
      "weighted avg       0.70      0.70      0.70       844\n",
      "\n"
     ]
    }
   ],
   "source": [
    "print(\"\\n### confusion matrix (LSVC) ###\")\n",
    "cm = confusion_matrix(y_test, y_pred_lsvc)\n",
    "print(cm)\n",
    "\n",
    "print(\"\\n### classification report (LSVC) ###\")\n",
    "cr = classification_report(y_test, y_pred_lsvc)\n",
    "print(cr)\n",
    "\n",
    "print(\"\\n### confusion matrix (KNN) ###\")\n",
    "print(confusion_matrix(y_test, y_pred_knn))\n",
    "\n",
    "print(\"\\n### classification report (KNN) ###\")\n",
    "\n",
    "print(classification_report(y_test, y_pred_knn))"
   ]
  },
  {
   "cell_type": "markdown",
   "id": "ff969149",
   "metadata": {
    "slideshow": {
     "slide_type": "slide"
    }
   },
   "source": [
    "# Conclusion\n",
    "\n",
    "It's still interesting to be able to predict 7 out of 10 with round 4000 samples.\n",
    "\n",
    "## Next steps\n",
    "\n",
    "We'll need more data to increase the accuracy of the model.\n",
    "\n",
    "Maybe take advantage of the **spotipy** library to extract more data.\n",
    "\n",
    "Variety of _genre_ at Spotify is huge, need to find a way to generalize them into bigger categories"
   ]
  },
  {
   "cell_type": "markdown",
   "id": "e77cf802",
   "metadata": {
    "slideshow": {
     "slide_type": "slide"
    }
   },
   "source": [
    "## Resources\n",
    "\n",
    "### Datasets\n",
    "- [Top 2000s Dataset](https://www.kaggle.com/iamsumat/spotify-top-2000s-mega-dataset)\n",
    "\n",
    "### Documentation\n",
    "- CAS ADS M3 - Tutorials\n",
    "- [Sci-kit learn documentation](https://scikit-learn.org/stable/modules/classes.html)\n",
    "- [Spotify API documentation](https://developer.spotify.com/documentation/web-api/reference/#/)\n",
    "- <http://sortyourmusic.playlistmachinery.com>\n",
    "- <https://stackabuse.com/k-nearest-neighbors-algorithm-in-python-and-scikit-learn/>"
   ]
  },
  {
   "cell_type": "markdown",
   "id": "5e049a3d",
   "metadata": {
    "slideshow": {
     "slide_type": "slide"
    }
   },
   "source": [
    "# Questions ?"
   ]
  }
 ],
 "metadata": {
  "celltoolbar": "Diaporama",
  "kernelspec": {
   "display_name": "Python 3",
   "language": "python",
   "name": "python3"
  },
  "language_info": {
   "codemirror_mode": {
    "name": "ipython",
    "version": 3
   },
   "file_extension": ".py",
   "mimetype": "text/x-python",
   "name": "python",
   "nbconvert_exporter": "python",
   "pygments_lexer": "ipython3",
   "version": "3.8.10"
  },
  "rise": {
   "enable_chalkboard": true,
   "scroll": true
  }
 },
 "nbformat": 4,
 "nbformat_minor": 5
}
